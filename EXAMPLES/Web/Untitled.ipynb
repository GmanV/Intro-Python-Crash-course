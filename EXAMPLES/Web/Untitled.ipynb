{
 "cells": [
  {
   "cell_type": "code",
   "execution_count": 3,
   "metadata": {
    "collapsed": false
   },
   "outputs": [],
   "source": [
    "from lxml import html\n",
    "import requests\n",
    "\n",
    "page = requests.get('http://econpy.pythonanywhere.com/ex/001.html')\n",
    "#page = requests.get('https://en.wikipedia.org/wiki/Gran_Alternativa_2012')\n",
    "tree = html.fromstring(page.content)"
   ]
  },
  {
   "cell_type": "code",
   "execution_count": 34,
   "metadata": {
    "collapsed": false
   },
   "outputs": [
    {
     "name": "stdout",
     "output_type": "stream",
     "text": [
      "  <div title=\"buyer-name\">Carson Busses</div>\n",
      "  <span class=\"item-price\">$29.95</span><br>\n",
      "</div>\n",
      "<div title=\"buyer-info\">\n",
      "  <div title=\"buyer-name\">Earl E. Byrd</div>\n",
      "  <span class=\"item-price\">$8.37</span><br>\n",
      "</div>\n",
      "<div title=\"buyer-info\">\n",
      "  <div title=\"buyer-name\">Patty Cakes</div>\n",
      "  <span class=\"item-price\">$15.26</span><br>\n",
      "</div>\n",
      "<div title=\"buyer-info\">\n",
      "  <div title=\"buyer-name\">Derri Anne Connecticut</div>\n",
      "  <span class=\"item-price\">$19.25</span><br>\n",
      "</div>\n",
      "<div title=\"buyer-info\">\n",
      "  <div title=\"buyer-name\">Moe Dess</div>\n",
      "  <span class=\"item-price\">$19.25</span><br>\n",
      "</div>\n",
      "<div title=\"buyer-info\">\n",
      "  <div title=\"buyer-name\">Leda Doggslife</div>\n",
      "  <span class=\"item-price\">$13.99</span><br>\n",
      "</div>\n",
      "<div title=\"buyer-info\">\n",
      "  <div title=\"buyer-name\">Dan Druff</div>\n",
      "  <span class=\"item-price\">$31.57</span><br>\n",
      "</div>\n",
      "<div title=\"buyer-info\">\n",
      "  <div title=\"buyer-name\">Al Fresco</div>\n",
      "  <span class=\"item-price\">$8.49</span><br>\n",
      "</div>\n",
      "<div title=\"buyer-info\">\n",
      "  <div title=\"buyer-name\">Ido Hoe</div>\n",
      "  <span class=\"item-price\">$14.47</span><br>\n",
      "</div>\n",
      "<div title=\"buyer-info\">\n",
      "  <div title=\"buyer-name\">Howie Kisses</div>\n",
      "  <span class=\"item-price\">$15.86</span><br>\n",
      "</div>\n",
      "<div title=\"buyer-info\">\n",
      "  <div title=\"buyer-name\">Len Lease</div>\n",
      "  <span class=\"item-price\">$11.11</span><br>\n",
      "</div>\n",
      "<div title=\"buyer-info\">\n",
      "  <div title=\"buyer-name\">Phil Meup</div>\n",
      "  <span class=\"item-price\">$15.98</span><br>\n",
      "</div>\n",
      "<div title=\"buyer-info\">\n",
      "  <div title=\"buyer-name\">Ira Pent</div>\n",
      "  <span class=\"item-price\">$16.27</span><br>\n",
      "</div>\n",
      "<div title=\"buyer-info\">\n",
      "  <div title=\"buyer-name\">Ben D. Rules</div>\n",
      "  <span class=\"item-price\">$7.50</span><br>\n",
      "</div>\n",
      "<div title=\"buyer-info\">\n",
      "  <div title=\"buyer-name\">Ave Sectomy</div>\n",
      "  <span class=\"item-price\">$50.85</span><br>\n",
      "</div>\n",
      "<div title=\"buyer-info\">\n",
      "  <div title=\"buyer-name\">Gary Shattire</div>\n",
      "  <span class=\"item-price\">$14.26</span><br>\n",
      "</div>\n",
      "<div title=\"buyer-info\">\n",
      "  <div title=\"buyer-name\">Bobbi Soks</div>\n",
      "  <span class=\"item-price\">$5.68</span><br>\n",
      "</div>\n",
      "<div title=\"buyer-info\">\n",
      "  <div title=\"buyer-name\">Sheila Takya</div>\n",
      "  <span class=\"item-price\">$15.00</span><br>\n",
      "</div>\n",
      "<div title=\"buyer-info\">\n",
      "  <div title=\"buyer-name\">Rose Tattoo</div>\n",
      "  <span class=\"item-price\">$114.07</span><br>\n",
      "</div>\n",
      "<div title=\"buyer-info\">\n",
      "  <div title=\"buyer-name\">Moe Tell</div>\n",
      "  <span class=\"item-price\">$10.09</span><br>\n",
      "</div>\n",
      "  <script type=\"text/javascript\">  (function() {\n",
      "    var ga = document.createElement('script');     ga.type = 'text/javascript'; ga.async = true;\n",
      "    ga.src = ('https:'   == document.location.protocol ? 'https://ssl'   : 'http://www') + '.google-analytics.com/ga.js';\n",
      "    var s = document.getElementsByTagName('script')[0]; s.parentNode.insertBefore(ga, s);\n",
      "    })();\n",
      "  </script>\n",
      "</body>\n",
      "</html>\n",
      "\n"
     ]
    }
   ],
   "source": [
    "for line in page.content.split('\\n')[15:]:\n",
    "    print line"
   ]
  },
  {
   "cell_type": "code",
   "execution_count": null,
   "metadata": {
    "collapsed": true
   },
   "outputs": [],
   "source": [
    "def get_buy_sell(addr, lines):\n",
    "            buyer = line.split('>')[1].split('<')[0]\n",
    "        price_line = lines[new_num+1]\n",
    "        print price_line\n",
    "        \n",
    "        print buyer\n"
   ]
  },
  {
   "cell_type": "code",
   "execution_count": 32,
   "metadata": {
    "collapsed": false
   },
   "outputs": [
    {
     "name": "stdout",
     "output_type": "stream",
     "text": [
      "<body> 12\n",
      "    <meta charset=\"utf-8\">\n",
      "Carson Busses\n",
      "      _gaq.push(['_setAccount', 'UA-23648880-1']);\n",
      "Earl E. Byrd\n",
      "</head>\n",
      "Patty Cakes\n",
      "  <div title=\"buyer-name\">Carson Busses</div>\n",
      "Derri Anne Connecticut\n",
      "  <div title=\"buyer-name\">Earl E. Byrd</div>\n",
      "Moe Dess\n",
      "  <div title=\"buyer-name\">Patty Cakes</div>\n",
      "Leda Doggslife\n",
      "  <div title=\"buyer-name\">Derri Anne Connecticut</div>\n",
      "Dan Druff\n",
      "  <div title=\"buyer-name\">Moe Dess</div>\n",
      "Al Fresco\n",
      "  <div title=\"buyer-name\">Leda Doggslife</div>\n",
      "Ido Hoe\n",
      "  <div title=\"buyer-name\">Dan Druff</div>\n",
      "Howie Kisses\n",
      "  <div title=\"buyer-name\">Al Fresco</div>\n",
      "Len Lease\n",
      "  <div title=\"buyer-name\">Ido Hoe</div>\n",
      "Phil Meup\n",
      "  <div title=\"buyer-name\">Howie Kisses</div>\n",
      "Ira Pent\n",
      "  <div title=\"buyer-name\">Len Lease</div>\n",
      "Ben D. Rules\n",
      "  <div title=\"buyer-name\">Phil Meup</div>\n",
      "Ave Sectomy\n",
      "  <div title=\"buyer-name\">Ira Pent</div>\n",
      "Gary Shattire\n",
      "  <div title=\"buyer-name\">Ben D. Rules</div>\n",
      "Bobbi Soks\n",
      "  <div title=\"buyer-name\">Ave Sectomy</div>\n",
      "Sheila Takya\n",
      "  <div title=\"buyer-name\">Gary Shattire</div>\n",
      "Rose Tattoo\n",
      "  <div title=\"buyer-name\">Bobbi Soks</div>\n",
      "Moe Tell\n"
     ]
    }
   ],
   "source": [
    "lines = page.content.split('\\n')\n",
    "for line_num, line in enumerate(lines):\n",
    "    line = line.strip()\n",
    "    if line.startswith('<body>'):\n",
    "        print line, line_num\n",
    "        break\n",
    "    else:\n",
    "        continue\n",
    "body_start = line_num+1\n",
    "buyers = {}\n",
    "for new_num, line in enumerate(lines[body_start:]):\n",
    "    if line.find(\"buyer-name\") >= 0:\n",
    "        get_buy_sell(new_num, lines):\n"
   ]
  },
  {
   "cell_type": "code",
   "execution_count": 43,
   "metadata": {
    "collapsed": false
   },
   "outputs": [
    {
     "name": "stdout",
     "output_type": "stream",
     "text": [
      "[(0, 'a'), (1, 'b'), (2, 'blah'), (3, 5)]\n",
      "{0: 'a', 1: 'b', 2: 'blah', 3: 5}\n"
     ]
    }
   ],
   "source": [
    "foo = ['a', 'b', 'blah', 5]\n",
    "print list(enumerate(foo))\n",
    "print dict(enumerate(foo))"
   ]
  },
  {
   "cell_type": "code",
   "execution_count": 39,
   "metadata": {
    "collapsed": false
   },
   "outputs": [
    {
     "name": "stdout",
     "output_type": "stream",
     "text": [
      "['a', 'b', 'c', 'd', 'e', 'f', 'g', 'h', 'i', 'j', 'k']\n",
      "<generator object get_letters at 0x104732af0>\n",
      "['a', 'b', 'c', 'd', 'e', 'f', 'g', 'h', 'i', 'j', 'k']\n",
      "a\n",
      "b\n",
      "c\n",
      "d\n",
      "e\n",
      "f\n",
      "g\n",
      "h\n",
      "i\n",
      "j\n",
      "k\n"
     ]
    }
   ],
   "source": [
    "def get_ltrs():\n",
    "    my_letters = 'abcdefghijk'\n",
    "    return [l for l in my_letters]\n",
    "\n",
    "def get_letters():\n",
    "    my_letters = 'abcdefghijk'\n",
    "    for letter in my_letters:\n",
    "        yield letter\n",
    "\n",
    "print get_ltrs()\n",
    "print get_letters()\n",
    "print list(get_letters())\n",
    "for l in get_letters():\n",
    "    print l"
   ]
  },
  {
   "cell_type": "code",
   "execution_count": 40,
   "metadata": {
    "collapsed": false
   },
   "outputs": [
    {
     "name": "stdout",
     "output_type": "stream",
     "text": [
      "[0, 1, 2, 3, 4, 5, 6, 7, 8, 9]\n"
     ]
    }
   ],
   "source": [
    "print range(10)"
   ]
  },
  {
   "cell_type": "code",
   "execution_count": 49,
   "metadata": {
    "collapsed": false
   },
   "outputs": [
    {
     "ename": "MemoryError",
     "evalue": "",
     "output_type": "error",
     "traceback": [
      "\u001b[0;31m---------------------------------------------------------------------------\u001b[0m",
      "\u001b[0;31mMemoryError\u001b[0m                               Traceback (most recent call last)",
      "\u001b[0;32m<ipython-input-49-dcb68b71a123>\u001b[0m in \u001b[0;36m<module>\u001b[0;34m()\u001b[0m\n\u001b[1;32m      1\u001b[0m \u001b[0mcount\u001b[0m \u001b[0;34m=\u001b[0m \u001b[0;36m0\u001b[0m\u001b[0;34m\u001b[0m\u001b[0m\n\u001b[0;32m----> 2\u001b[0;31m \u001b[0;32mfor\u001b[0m \u001b[0mval\u001b[0m \u001b[0;32min\u001b[0m \u001b[0mrange\u001b[0m\u001b[0;34m(\u001b[0m\u001b[0;36m10000000000000000\u001b[0m\u001b[0;34m)\u001b[0m\u001b[0;34m:\u001b[0m\u001b[0;34m\u001b[0m\u001b[0m\n\u001b[0m\u001b[1;32m      3\u001b[0m     \u001b[0mcount\u001b[0m \u001b[0;34m+=\u001b[0m \u001b[0;36m1\u001b[0m\u001b[0;34m\u001b[0m\u001b[0m\n\u001b[1;32m      4\u001b[0m     \u001b[0;32mif\u001b[0m \u001b[0mcount\u001b[0m \u001b[0;34m>\u001b[0m \u001b[0;36m10\u001b[0m\u001b[0;34m:\u001b[0m\u001b[0;34m\u001b[0m\u001b[0m\n\u001b[1;32m      5\u001b[0m         \u001b[0;32mbreak\u001b[0m\u001b[0;34m\u001b[0m\u001b[0m\n",
      "\u001b[0;31mMemoryError\u001b[0m: "
     ]
    }
   ],
   "source": [
    "count = 0\n",
    "for val in range(10000000000000000):\n",
    "    count += 1\n",
    "    if count > 10:\n",
    "        break\n",
    "    print val"
   ]
  },
  {
   "cell_type": "code",
   "execution_count": 50,
   "metadata": {
    "collapsed": false
   },
   "outputs": [
    {
     "name": "stdout",
     "output_type": "stream",
     "text": [
      "foo\n"
     ]
    }
   ],
   "source": [
    "x = lambda word: word.lower()\n",
    "print x('Foo')\n"
   ]
  },
  {
   "cell_type": "code",
   "execution_count": 52,
   "metadata": {
    "collapsed": false
   },
   "outputs": [
    {
     "name": "stdout",
     "output_type": "stream",
     "text": [
      "foo\n"
     ]
    }
   ],
   "source": [
    "def y(word):\n",
    "    return word.lower()\n",
    "\n",
    "print y('Foo')"
   ]
  },
  {
   "cell_type": "code",
   "execution_count": null,
   "metadata": {
    "collapsed": true
   },
   "outputs": [],
   "source": []
  }
 ],
 "metadata": {
  "kernelspec": {
   "display_name": "Python 2",
   "language": "python",
   "name": "python2"
  },
  "language_info": {
   "codemirror_mode": {
    "name": "ipython",
    "version": 2
   },
   "file_extension": ".py",
   "mimetype": "text/x-python",
   "name": "python",
   "nbconvert_exporter": "python",
   "pygments_lexer": "ipython2",
   "version": "2.7.10"
  }
 },
 "nbformat": 4,
 "nbformat_minor": 0
}
