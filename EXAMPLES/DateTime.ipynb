{
 "cells": [
  {
   "cell_type": "code",
   "execution_count": 1,
   "metadata": {
    "collapsed": true
   },
   "outputs": [],
   "source": [
    "import datetime as dt\n",
    "def blah():\n",
    "    row_date = ismp['rows'][0]['sys_updated_on']\n",
    "    cur_date = dt.datetime.strftime(dt.datetime.now(), \"%Y-%m-%d %H:%M:%S.%f\")\n",
    "    print \"dt.dt.now:            \", (dt.datetime.now(),)\n",
    "    print \"dt.dt.strf(dt.dt.now):\", (cur_date,)\n",
    "    print \"row_date:             \", (row_date,)\n",
    "    row_date = dt.datetime.strptime(row_date, \"%Y-%m-%d %H:%M:%S\")\n",
    "    print \"dt.dt.strp(row_date): \", (row_date,)\n",
    "    delta = (dt.datetime.now() - row_date)\n",
    "    print delta.days\n",
    "    #curDate = datetime.strftime(datetime.now(), timeFormat)\n",
    "    #if datetime.strptime(serialHistory[R][\"date\"], timeFormat) > datetime.strptime(lastRunDate, timeFormat):\n"
   ]
  },
  {
   "cell_type": "code",
   "execution_count": 10,
   "metadata": {
    "collapsed": false
   },
   "outputs": [
    {
     "name": "stdout",
     "output_type": "stream",
     "text": [
      "2016-03-30 18:50:26\n",
      "2016-03-30 18:59:17.861919\n",
      "Diff: 0:08:51.861919\n",
      "18 59\n",
      "Formated current time: 03/30/16 18:59:17\n"
     ]
    }
   ],
   "source": [
    "my_date = \"Wed Mar 30 18:50:26 2016\"\n",
    "#my_date = \" \".join(my_date.split()[2])\n",
    "pf_md = dt.datetime.strptime(my_date, \"%a %b %d %H:%M:%S %Y\")\n",
    "cur_time = dt.datetime.now()\n",
    "print pf_md\n",
    "print cur_time\n",
    "print \"Diff:\", cur_time - pf_md\n",
    "print cur_time.hour, cur_time.minute\n",
    "\n",
    "print \"Formated current time:\", dt.datetime.strftime(cur_time, \"%x %X\")"
   ]
  },
  {
   "cell_type": "code",
   "execution_count": null,
   "metadata": {
    "collapsed": true
   },
   "outputs": [],
   "source": []
  }
 ],
 "metadata": {
  "kernelspec": {
   "display_name": "Python 2",
   "language": "python",
   "name": "python2"
  },
  "language_info": {
   "codemirror_mode": {
    "name": "ipython",
    "version": 2
   },
   "file_extension": ".py",
   "mimetype": "text/x-python",
   "name": "python",
   "nbconvert_exporter": "python",
   "pygments_lexer": "ipython2",
   "version": "2.7.10"
  }
 },
 "nbformat": 4,
 "nbformat_minor": 0
}
