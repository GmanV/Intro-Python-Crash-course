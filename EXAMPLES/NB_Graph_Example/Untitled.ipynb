{
 "cells": [
  {
   "cell_type": "code",
   "execution_count": 6,
   "metadata": {
    "collapsed": false
   },
   "outputs": [],
   "source": [
    "lines = []\n",
    "with open('output.txt', 'r') as f:\n",
    "    for line in f.read().split('\\n'):\n",
    "        lines.append(line)"
   ]
  },
  {
   "cell_type": "code",
   "execution_count": 7,
   "metadata": {
    "collapsed": false
   },
   "outputs": [
    {
     "name": "stdout",
     "output_type": "stream",
     "text": [
      "==============================================\n",
      "9 EXPERIMENTS started at 2015-02-24 17:29:31\n",
      "==============================================\n",
      "1. RUN_FIXED(1, FIXED_FILE, 1024)\n",
      "  Throughput         = 130945.6000000000 bytes/sec\n"
     ]
    }
   ],
   "source": [
    "for line in lines[:5]:\n",
    "    print line\n",
    "    "
   ]
  },
  {
   "cell_type": "code",
   "execution_count": 8,
   "metadata": {
    "collapsed": false
   },
   "outputs": [
    {
     "name": "stdout",
     "output_type": "stream",
     "text": [
      "130945.6000000000 bytes/sec\n",
      "260857.5000000000 bytes/sec\n",
      "309207.9000000000 bytes/sec\n",
      "309207.9000000000 bytes/sec\n",
      "267477.7000000000 bytes/sec\n",
      "293672.0000000000 bytes/sec\n",
      "293672.0000000000 bytes/sec\n",
      "132125.7000000000 bytes/sec\n",
      "132125.7000000000 bytes/sec\n"
     ]
    }
   ],
   "source": [
    "for line in lines:\n",
    "    line = line.strip()\n",
    "    if line.startswith('Throughput'):\n",
    "        data = line.split(' = ')[1]\n",
    "        print data"
   ]
  },
  {
   "cell_type": "code",
   "execution_count": 10,
   "metadata": {
    "collapsed": false
   },
   "outputs": [],
   "source": [
    "my_vals = [1234.1, 2345.1, 3456.2, 4567.4]\n",
    "with open('out.txt', 'w') as f:\n",
    "    for val in my_vals:\n",
    "        line = \"My data: {}\\n\".format(val)\n",
    "        f.write(line)"
   ]
  },
  {
   "cell_type": "code",
   "execution_count": 12,
   "metadata": {
    "collapsed": false
   },
   "outputs": [
    {
     "name": "stdout",
     "output_type": "stream",
     "text": [
      "My data: 1234.1\n",
      "My data: 2345.1\n",
      "My data: 3456.2\n",
      "My data: 4567.4\n",
      "\n"
     ]
    }
   ],
   "source": [
    "with open('out.txt', 'r') as foo:\n",
    "    print foo.read()"
   ]
  },
  {
   "cell_type": "code",
   "execution_count": null,
   "metadata": {
    "collapsed": true
   },
   "outputs": [],
   "source": []
  }
 ],
 "metadata": {
  "kernelspec": {
   "display_name": "Python 2",
   "language": "python",
   "name": "python2"
  },
  "language_info": {
   "codemirror_mode": {
    "name": "ipython",
    "version": 2
   },
   "file_extension": ".py",
   "mimetype": "text/x-python",
   "name": "python",
   "nbconvert_exporter": "python",
   "pygments_lexer": "ipython2",
   "version": "2.7.10"
  }
 },
 "nbformat": 4,
 "nbformat_minor": 0
}
